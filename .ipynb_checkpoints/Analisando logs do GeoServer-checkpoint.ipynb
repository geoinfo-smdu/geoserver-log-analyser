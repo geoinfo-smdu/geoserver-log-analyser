{
 "cells": [
  {
   "cell_type": "markdown",
   "metadata": {},
   "source": [
    "# Analisando logs do GeoServer\n",
    "\n",
    "Temos uma pasta com uma subpasta para cada servidor e dentro dessa pasta cada arquivo de log separado por dia\n",
    "\n",
    "* Portanto temos que iterar dentro de cada pasta e dentro de cada arquivo diário.\n",
    "* Devemos analisar 'Parser' as datas entre chaves ('[]')\n",
    "* Para então importar o aquivo como CSV em uma base Pandas\n"
   ]
  },
  {
   "cell_type": "code",
   "execution_count": 65,
   "metadata": {},
   "outputs": [
    {
     "data": {
      "text/html": [
       "<div>\n",
       "<style scoped>\n",
       "    .dataframe tbody tr th:only-of-type {\n",
       "        vertical-align: middle;\n",
       "    }\n",
       "\n",
       "    .dataframe tbody tr th {\n",
       "        vertical-align: top;\n",
       "    }\n",
       "\n",
       "    .dataframe thead th {\n",
       "        text-align: right;\n",
       "    }\n",
       "</style>\n",
       "<table border=\"1\" class=\"dataframe\">\n",
       "  <thead>\n",
       "    <tr style=\"text-align: right;\">\n",
       "      <th></th>\n",
       "      <th>DateTime</th>\n",
       "      <th>ip</th>\n",
       "      <th>url</th>\n",
       "      <th>status</th>\n",
       "      <th>size</th>\n",
       "      <th>time</th>\n",
       "      <th>9</th>\n",
       "      <th>10</th>\n",
       "    </tr>\n",
       "  </thead>\n",
       "  <tbody>\n",
       "    <tr>\n",
       "      <td>0</td>\n",
       "      <td>2019-11-09 00:00:21-02:00</td>\n",
       "      <td>127.0.0.1</td>\n",
       "      <td>HEAD /status-tomcat HTTP/1.1</td>\n",
       "      <td>302</td>\n",
       "      <td>-</td>\n",
       "      <td>0.000</td>\n",
       "      <td>0</td>\n",
       "      <td>-</td>\n",
       "    </tr>\n",
       "    <tr>\n",
       "      <td>1</td>\n",
       "      <td>2019-11-09 00:00:22-02:00</td>\n",
       "      <td>127.0.0.1</td>\n",
       "      <td>HEAD /status-tomcat HTTP/1.1</td>\n",
       "      <td>302</td>\n",
       "      <td>-</td>\n",
       "      <td>0.000</td>\n",
       "      <td>0</td>\n",
       "      <td>-</td>\n",
       "    </tr>\n",
       "    <tr>\n",
       "      <td>2</td>\n",
       "      <td>2019-11-09 00:00:42-02:00</td>\n",
       "      <td>127.0.0.1</td>\n",
       "      <td>GET /geoserver/geoportal/wms?hc=6C964F51-61ECF...</td>\n",
       "      <td>200</td>\n",
       "      <td>156365</td>\n",
       "      <td>0.851</td>\n",
       "      <td>851</td>\n",
       "      <td>835</td>\n",
       "    </tr>\n",
       "    <tr>\n",
       "      <td>3</td>\n",
       "      <td>2019-11-09 00:00:42-02:00</td>\n",
       "      <td>127.0.0.1</td>\n",
       "      <td>GET /geoserver/geoportal/wms?hc=6C964F51-61ECF...</td>\n",
       "      <td>200</td>\n",
       "      <td>153093</td>\n",
       "      <td>1.023</td>\n",
       "      <td>1023</td>\n",
       "      <td>976</td>\n",
       "    </tr>\n",
       "    <tr>\n",
       "      <td>4</td>\n",
       "      <td>2019-11-09 00:00:42-02:00</td>\n",
       "      <td>127.0.0.1</td>\n",
       "      <td>GET /geoserver/geoportal/wms?hc=6C964F51-61ECF...</td>\n",
       "      <td>200</td>\n",
       "      <td>160769</td>\n",
       "      <td>1.023</td>\n",
       "      <td>1023</td>\n",
       "      <td>1007</td>\n",
       "    </tr>\n",
       "  </tbody>\n",
       "</table>\n",
       "</div>"
      ],
      "text/plain": [
       "                   DateTime         ip  \\\n",
       "0 2019-11-09 00:00:21-02:00  127.0.0.1   \n",
       "1 2019-11-09 00:00:22-02:00  127.0.0.1   \n",
       "2 2019-11-09 00:00:42-02:00  127.0.0.1   \n",
       "3 2019-11-09 00:00:42-02:00  127.0.0.1   \n",
       "4 2019-11-09 00:00:42-02:00  127.0.0.1   \n",
       "\n",
       "                                                 url  status    size   time  \\\n",
       "0                       HEAD /status-tomcat HTTP/1.1     302       -  0.000   \n",
       "1                       HEAD /status-tomcat HTTP/1.1     302       -  0.000   \n",
       "2  GET /geoserver/geoportal/wms?hc=6C964F51-61ECF...     200  156365  0.851   \n",
       "3  GET /geoserver/geoportal/wms?hc=6C964F51-61ECF...     200  153093  1.023   \n",
       "4  GET /geoserver/geoportal/wms?hc=6C964F51-61ECF...     200  160769  1.023   \n",
       "\n",
       "      9    10  \n",
       "0     0     -  \n",
       "1     0     -  \n",
       "2   851   835  \n",
       "3  1023   976  \n",
       "4  1023  1007  "
      ]
     },
     "execution_count": 65,
     "metadata": {},
     "output_type": "execute_result"
    }
   ],
   "source": [
    "import pandas as pd\n",
    "\n",
    "# função de converção de data\n",
    "dateparse = lambda x : pd.datetime.strptime(x, '[%d/%b/%Y:%H:%M:%S %z]')\n",
    "\n",
    "# importando arquivos\n",
    "data = pd.read_csv('logs/c64v119i/localhost_access_log.2019-11-09.txt', \n",
    "                   delim_whitespace=True, \n",
    "                   header=None, \n",
    "                   parse_dates=[[3,4]], \n",
    "                   date_parser=dateparse)\n",
    "\n",
    "# Renomeando as colunas\n",
    "data.rename(columns={\"3_4\": \"DateTime\", \n",
    "                     0: \"ip\", \n",
    "                     5: \"url\", \n",
    "                     6: \"status\", \n",
    "                     7: \"size\", \n",
    "                     8: \"time\"},\n",
    "            inplace=True)\n",
    "\n",
    "# removendo colunas nulas\n",
    "data.drop([1, 2], axis=1, inplace=True)\n",
    "\n",
    "data.head()"
   ]
  },
  {
   "cell_type": "code",
   "execution_count": 46,
   "metadata": {},
   "outputs": [
    {
     "data": {
      "text/plain": [
       "['GET',\n",
       " '/geoserver/geoportal/wms?hc=582BF09A-7F5045D1-1DD8E075&service=WMS&tipoServico=WMS_RASTER&LAYERS=geoportal:SaraBrasil_1930&FORMAT=image/png&VERSION=1.1.1&REQUEST=GetMap&STYLES=&SRS=EPSG:31983&BBOX=340570.432,7396955.552,341004.096,7397389.216&WIDTH=256&HEIGHT=256',\n",
       " 'HTTP/1.1']"
      ]
     },
     "execution_count": 46,
     "metadata": {},
     "output_type": "execute_result"
    }
   ],
   "source": [
    "l.split('\"', 1)[1].split('\"')[0].split(\" \")"
   ]
  }
 ],
 "metadata": {
  "kernelspec": {
   "display_name": "Python 3",
   "language": "python",
   "name": "python3"
  },
  "language_info": {
   "codemirror_mode": {
    "name": "ipython",
    "version": 3
   },
   "file_extension": ".py",
   "mimetype": "text/x-python",
   "name": "python",
   "nbconvert_exporter": "python",
   "pygments_lexer": "ipython3",
   "version": "3.7.3"
  }
 },
 "nbformat": 4,
 "nbformat_minor": 2
}
